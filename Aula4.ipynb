{
  "nbformat": 4,
  "nbformat_minor": 0,
  "metadata": {
    "colab": {
      "provenance": [],
      "authorship_tag": "ABX9TyO4Uzer3K6LPuiVJaxFpcvE",
      "include_colab_link": true
    },
    "kernelspec": {
      "name": "python3",
      "display_name": "Python 3"
    },
    "language_info": {
      "name": "python"
    }
  },
  "cells": [
    {
      "cell_type": "markdown",
      "metadata": {
        "id": "view-in-github",
        "colab_type": "text"
      },
      "source": [
        "<a href=\"https://colab.research.google.com/github/DanyBoss711/Aula4/blob/main/Aula4.ipynb\" target=\"_parent\"><img src=\"https://colab.research.google.com/assets/colab-badge.svg\" alt=\"Open In Colab\"/></a>"
      ]
    },
    {
      "cell_type": "code",
      "execution_count": 1,
      "metadata": {
        "id": "6iyzhJIx8FFz"
      },
      "outputs": [],
      "source": [
        "pip install -q -U google-generativeai"
      ]
    },
    {
      "cell_type": "code",
      "source": [
        "import google.generativeai as genai\n",
        "from google.colab import userdata\n",
        "api_key = userdata.get('SECRET_KEY')\n",
        "genai.configure(api_key = api_key)"
      ],
      "metadata": {
        "id": "KBnee1vk8czc"
      },
      "execution_count": 17,
      "outputs": []
    },
    {
      "cell_type": "code",
      "source": [
        "for m in genai.list_models():\n",
        "  if 'generateContent' in m.supported_generation_methods:\n",
        "    print(m.name)"
      ],
      "metadata": {
        "colab": {
          "base_uri": "https://localhost:8080/",
          "height": 139
        },
        "id": "0YdszkWr8kh-",
        "outputId": "b2aea9c6-84de-44ea-cbe8-f4e652566511"
      },
      "execution_count": 3,
      "outputs": [
        {
          "output_type": "stream",
          "name": "stdout",
          "text": [
            "models/gemini-1.0-pro\n",
            "models/gemini-1.0-pro-001\n",
            "models/gemini-1.0-pro-latest\n",
            "models/gemini-1.0-pro-vision-latest\n",
            "models/gemini-1.5-pro-latest\n",
            "models/gemini-pro\n",
            "models/gemini-pro-vision\n"
          ]
        }
      ]
    },
    {
      "cell_type": "code",
      "source": [
        "generation_config = {\n",
        "    \"candidate_count\":1,\n",
        "  \"temperature\":0.5,\n",
        "}"
      ],
      "metadata": {
        "id": "RbdlpkLz8qe2"
      },
      "execution_count": 4,
      "outputs": []
    },
    {
      "cell_type": "code",
      "source": [
        "safety_settings = {\n",
        "    \"HARASSMENT\":\"BLOCK_NONE\",\n",
        "    \"HATE\":\"BLOCK_NONE\",\n",
        "    \"SEXUAL\":\"BLOCK_NONE\",\n",
        "    \"DANGEROUS\":\"BLOCK_NONE\",\n",
        "}"
      ],
      "metadata": {
        "id": "vg0grsq08ver"
      },
      "execution_count": 5,
      "outputs": []
    },
    {
      "cell_type": "code",
      "source": [
        "model = genai.GenerativeModel(model_name=\"gemini-1.0-pro\",\n",
        "                            generation_config=generation_config,\n",
        "                              safety_settings=safety_settings)\n",
        "\n"
      ],
      "metadata": {
        "id": "iR0zJcuv81BY"
      },
      "execution_count": 6,
      "outputs": []
    },
    {
      "cell_type": "code",
      "source": [
        "response = model.generate_content(\"Vamos aprender conteudo sobre ia. Me de sugestoes.\")\n",
        "print(response.text)\n"
      ],
      "metadata": {
        "colab": {
          "base_uri": "https://localhost:8080/",
          "height": 625
        },
        "id": "oPYBJTtQ85oT",
        "outputId": "61d84659-39b1-4230-a695-018b63209d3f"
      },
      "execution_count": 7,
      "outputs": [
        {
          "output_type": "stream",
          "name": "stdout",
          "text": [
            "**Conceitos Fundamentais**\n",
            "\n",
            "* O que é Inteligência Artificial (IA)?\n",
            "* Tipos de IA: IA estreita, IA geral e superinteligência\n",
            "* Aprendizado de máquina, aprendizado profundo e redes neurais\n",
            "* Algoritmos de IA e técnicas de modelagem\n",
            "\n",
            "**Aplicações de IA**\n",
            "\n",
            "* Automação de processos e otimização\n",
            "* Reconhecimento de imagem e processamento de linguagem natural\n",
            "* Diagnóstico médico e descoberta de medicamentos\n",
            "* Veículos autônomos e robótica\n",
            "* Análise preditiva e tomada de decisão\n",
            "\n",
            "**Implicações Éticas e Sociais**\n",
            "\n",
            "* Preocupações éticas sobre IA: viés, discriminação e privacidade\n",
            "* Impacto da IA no emprego e na sociedade\n",
            "* Regulamentação e governança da IA\n",
            "* O futuro da IA e seu potencial impacto na humanidade\n",
            "\n",
            "**Recursos de Aprendizagem**\n",
            "\n",
            "* Cursos online: Coursera, edX, Udemy\n",
            "* Livros e artigos: \"Inteligência Artificial: Uma Abordagem Moderna\" por Stuart Russell e Peter Norvig, artigos de pesquisa em IA\n",
            "* Conferências e eventos: NeurIPS, ICML, AAAI\n",
            "* Comunidades online: Reddit, Discord, fóruns especializados em IA\n",
            "\n",
            "**Sugestões Específicas**\n",
            "\n",
            "* Explore os princípios do aprendizado de máquina com o curso \"Aprendizado de Máquina\" da Coursera.\n",
            "* Aprenda sobre redes neurais com o livro \"Redes Neurais e Aprendizado Profundo\" por Michael Nielsen.\n",
            "* Fique atualizado com as últimas tendências de IA seguindo pesquisadores e especialistas no Twitter.\n",
            "* Participe de um hackathon ou projeto de IA para aplicar seus conhecimentos na prática.\n"
          ]
        }
      ]
    },
    {
      "cell_type": "code",
      "source": [
        "chat = model.start_chat(history=[])"
      ],
      "metadata": {
        "id": "80L1sm6_8__I"
      },
      "execution_count": 10,
      "outputs": []
    },
    {
      "cell_type": "code",
      "source": [
        "prompt = input(\"Esperando prompt:\")\n",
        "\n",
        "while prompt != \"fim\":\n",
        "  response = chat.send_message(prompt)\n",
        "  print(\"Resposta \",response.text,\"\\n\")\n",
        "  prompt = input(\"Esperando prompt:\")"
      ],
      "metadata": {
        "colab": {
          "base_uri": "https://localhost:8080/",
          "height": 191
        },
        "id": "B5Y5vCgI9cQH",
        "outputId": "a7e94a7d-90ca-4ac5-a0a5-7580e75344ed"
      },
      "execution_count": 11,
      "outputs": [
        {
          "name": "stdout",
          "output_type": "stream",
          "text": [
            "Esperando prompt:onde fica cabo verde\n",
            "Resposta  Oceano Atlântico, a oeste da costa da África \n",
            "\n",
            "Esperando prompt:quantas ilhas sao\n",
            "Resposta  10 ilhas principais e vários ilhéus \n",
            "\n",
            "Esperando prompt:qual sua capital\n",
            "Resposta  Praia \n",
            "\n",
            "Esperando prompt:fim\n"
          ]
        }
      ]
    },
    {
      "cell_type": "code",
      "source": [
        "chat"
      ],
      "metadata": {
        "colab": {
          "base_uri": "https://localhost:8080/"
        },
        "id": "IyeubE9--jBt",
        "outputId": "71917f92-875a-4c00-d386-016a7b017e5b"
      },
      "execution_count": 12,
      "outputs": [
        {
          "output_type": "execute_result",
          "data": {
            "text/plain": [
              "ChatSession(\n",
              "    model=genai.GenerativeModel(\n",
              "        model_name='models/gemini-1.0-pro',\n",
              "        generation_config={'candidate_count': 1, 'temperature': 0.5},\n",
              "        safety_settings={<HarmCategory.HARM_CATEGORY_HARASSMENT: 7>: <HarmBlockThreshold.BLOCK_NONE: 4>, <HarmCategory.HARM_CATEGORY_HATE_SPEECH: 8>: <HarmBlockThreshold.BLOCK_NONE: 4>, <HarmCategory.HARM_CATEGORY_SEXUALLY_EXPLICIT: 9>: <HarmBlockThreshold.BLOCK_NONE: 4>, <HarmCategory.HARM_CATEGORY_DANGEROUS_CONTENT: 10>: <HarmBlockThreshold.BLOCK_NONE: 4>},\n",
              "        tools=None,\n",
              "        system_instruction=None,\n",
              "    ),\n",
              "    history=[glm.Content({'parts': [{'text': 'onde fica cabo verde'}], 'role': 'user'}), glm.Content({'parts': [{'text': 'Oceano Atlân...sta da África'}], 'role': 'model'}), glm.Content({'parts': [{'text': 'quantas ilhas sao'}], 'role': 'user'}), glm.Content({'parts': [{'text': '10 ilhas pri...vários ilhéus'}], 'role': 'model'}), glm.Content({'parts': [{'text': 'qual sua capital'}], 'role': 'user'}), glm.Content({'parts': [{'text': 'Praia'}], 'role': 'model'})]\n",
              ")"
            ]
          },
          "metadata": {},
          "execution_count": 12
        }
      ]
    },
    {
      "cell_type": "code",
      "source": [
        "chat.history"
      ],
      "metadata": {
        "colab": {
          "base_uri": "https://localhost:8080/"
        },
        "id": "mcTTRkW7-rwK",
        "outputId": "438cf764-0228-40e7-ed3c-15ee99735595"
      },
      "execution_count": 13,
      "outputs": [
        {
          "output_type": "execute_result",
          "data": {
            "text/plain": [
              "[parts {\n",
              "   text: \"onde fica cabo verde\"\n",
              " }\n",
              " role: \"user\",\n",
              " parts {\n",
              "   text: \"Oceano Atl\\303\\242ntico, a oeste da costa da \\303\\201frica\"\n",
              " }\n",
              " role: \"model\",\n",
              " parts {\n",
              "   text: \"quantas ilhas sao\"\n",
              " }\n",
              " role: \"user\",\n",
              " parts {\n",
              "   text: \"10 ilhas principais e v\\303\\241rios ilh\\303\\251us\"\n",
              " }\n",
              " role: \"model\",\n",
              " parts {\n",
              "   text: \"qual sua capital\"\n",
              " }\n",
              " role: \"user\",\n",
              " parts {\n",
              "   text: \"Praia\"\n",
              " }\n",
              " role: \"model\"]"
            ]
          },
          "metadata": {},
          "execution_count": 13
        }
      ]
    },
    {
      "cell_type": "code",
      "source": [
        "import textwrap\n",
        "from IPython.display import display\n",
        "from IPython.display import Markdown\n",
        "\n",
        "def to_markdown(text):\n",
        "  text = text.replace('•', '  *')\n",
        "  return Markdown(textwrap.indent(text, '> ', predicate=lambda _: True))\n",
        "\n",
        "#Imprimindo o histórico\n",
        "for message in chat.history:\n",
        "  display(to_markdown(f'**{message.role}**: {message.parts[0].text}'))\n",
        "  print('-------------------------------------------')"
      ],
      "metadata": {
        "colab": {
          "base_uri": "https://localhost:8080/",
          "height": 393
        },
        "id": "NEEX-7jO-z7-",
        "outputId": "3df66eca-45bc-4ff1-e57e-d2cdd3c2ee75"
      },
      "execution_count": 14,
      "outputs": [
        {
          "output_type": "display_data",
          "data": {
            "text/plain": [
              "<IPython.core.display.Markdown object>"
            ],
            "text/markdown": "> **user**: onde fica cabo verde"
          },
          "metadata": {}
        },
        {
          "output_type": "stream",
          "name": "stdout",
          "text": [
            "-------------------------------------------\n"
          ]
        },
        {
          "output_type": "display_data",
          "data": {
            "text/plain": [
              "<IPython.core.display.Markdown object>"
            ],
            "text/markdown": "> **model**: Oceano Atlântico, a oeste da costa da África"
          },
          "metadata": {}
        },
        {
          "output_type": "stream",
          "name": "stdout",
          "text": [
            "-------------------------------------------\n"
          ]
        },
        {
          "output_type": "display_data",
          "data": {
            "text/plain": [
              "<IPython.core.display.Markdown object>"
            ],
            "text/markdown": "> **user**: quantas ilhas sao"
          },
          "metadata": {}
        },
        {
          "output_type": "stream",
          "name": "stdout",
          "text": [
            "-------------------------------------------\n"
          ]
        },
        {
          "output_type": "display_data",
          "data": {
            "text/plain": [
              "<IPython.core.display.Markdown object>"
            ],
            "text/markdown": "> **model**: 10 ilhas principais e vários ilhéus"
          },
          "metadata": {}
        },
        {
          "output_type": "stream",
          "name": "stdout",
          "text": [
            "-------------------------------------------\n"
          ]
        },
        {
          "output_type": "display_data",
          "data": {
            "text/plain": [
              "<IPython.core.display.Markdown object>"
            ],
            "text/markdown": "> **user**: qual sua capital"
          },
          "metadata": {}
        },
        {
          "output_type": "stream",
          "name": "stdout",
          "text": [
            "-------------------------------------------\n"
          ]
        },
        {
          "output_type": "display_data",
          "data": {
            "text/plain": [
              "<IPython.core.display.Markdown object>"
            ],
            "text/markdown": "> **model**: Praia"
          },
          "metadata": {}
        },
        {
          "output_type": "stream",
          "name": "stdout",
          "text": [
            "-------------------------------------------\n"
          ]
        }
      ]
    }
  ]
}